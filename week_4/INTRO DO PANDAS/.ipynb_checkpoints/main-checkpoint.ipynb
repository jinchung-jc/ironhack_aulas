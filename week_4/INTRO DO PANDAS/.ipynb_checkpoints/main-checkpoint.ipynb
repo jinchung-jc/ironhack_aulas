{
 "cells": [
  {
   "cell_type": "markdown",
   "metadata": {
    "colab_type": "text",
    "id": "YE3unUd1OcTs"
   },
   "source": [
    "![Ironhack logo](https://i.imgur.com/1QgrNNw.png)\n",
    "\n",
    "# Lab | Introduction to Pandas\n",
    "\n",
    "## Introduction\n",
    "\n",
    "In the Introduction to Pandas lesson, we learned about the two main data structures in Pandas (Series and DataFrames), how to work with them, how to obtain them from other data structures, and how to perform basic calculations with them.\n",
    "\n",
    "The goal of this lab is to help you practice the concepts you learned in the lesson and provide you with some hands-on experience working with Pandas.\n",
    "\n",
    "## Getting Started\n",
    "\n",
    "Read the instructions for each cell and provide your answers. Make sure to test your answers in each cell and save. Jupyter Notebook should automatically save your work progress. But it's a good idea to periodically save your work manually just in case.\n",
    "\n",
    "## Resources\n",
    "\n",
    "- [Pandas Documentation](https://pandas.pydata.org/pandas-docs/stable/)\n",
    "- [Intro to Pandas Data Structures](https://pandas.pydata.org/pandas-docs/stable/dsintro.html)\n",
    "- [Descriptive Statistics for Pandas DataFrame](https://chrisalbon.com/python/data_wrangling/pandas_dataframe_descriptive_stats/)"
   ]
  },
  {
   "cell_type": "markdown",
   "metadata": {
    "colab_type": "text",
    "id": "yjGkOvNMOajh"
   },
   "source": [
    "# Introduction to Pandas\n",
    "\n",
    "Complete the following set of exercises to solidify your knowledge of Pandas fundamentals."
   ]
  },
  {
   "cell_type": "markdown",
   "metadata": {
    "colab_type": "text",
    "id": "wBPxNR9QOajj"
   },
   "source": [
    "#### 1. Import Numpy and Pandas and alias them to `np` and `pd` respectively."
   ]
  },
  {
   "cell_type": "code",
   "execution_count": 1,
   "metadata": {
    "colab": {},
    "colab_type": "code",
    "id": "iH3FotJGOajk"
   },
   "outputs": [],
   "source": [
    "# your code here\n",
    "import pandas as pd\n",
    "import numpy as np"
   ]
  },
  {
   "cell_type": "markdown",
   "metadata": {
    "colab_type": "text",
    "id": "Lx1LrDcHOajp"
   },
   "source": [
    "#### 2. Create a Pandas Series containing the elements of the list below.\n",
    "\n",
    "Expected output:\n",
    "\n",
    "````python\n",
    "            0     5.7\n",
    "            1    75.2\n",
    "            2    74.4\n",
    "            3    84.0\n",
    "            4    66.5\n",
    "            5    66.3\n",
    "            6    55.8\n",
    "            7    75.7\n",
    "            8    29.1\n",
    "            9    43.7\n",
    "            dtype: float64\n",
    "    \n",
    "````"
   ]
  },
  {
   "cell_type": "code",
   "execution_count": 5,
   "metadata": {},
   "outputs": [
    {
     "data": {
      "text/plain": [
       "<module 'pandas' from 'C:\\\\Users\\\\Ideapad 310\\\\anaconda3\\\\lib\\\\site-packages\\\\pandas\\\\__init__.py'>"
      ]
     },
     "execution_count": 5,
     "metadata": {},
     "output_type": "execute_result"
    }
   ],
   "source": [
    "pd"
   ]
  },
  {
   "cell_type": "code",
   "execution_count": 7,
   "metadata": {},
   "outputs": [
    {
     "name": "stderr",
     "output_type": "stream",
     "text": [
      "C:\\Users\\Ideapad 310\\anaconda3\\lib\\site-packages\\ipykernel_launcher.py:1: DeprecationWarning: The default dtype for empty Series will be 'object' instead of 'float64' in a future version. Specify a dtype explicitly to silence this warning.\n",
      "  \"\"\"Entry point for launching an IPython kernel.\n"
     ]
    },
    {
     "data": {
      "text/plain": [
       "Series([], dtype: float64)"
      ]
     },
     "execution_count": 7,
     "metadata": {},
     "output_type": "execute_result"
    }
   ],
   "source": [
    "pd.Series()"
   ]
  },
  {
   "cell_type": "code",
   "execution_count": 8,
   "metadata": {
    "colab": {},
    "colab_type": "code",
    "id": "bx1BubQVOajq"
   },
   "outputs": [],
   "source": [
    "lst = [5.7, 75.2, 74.4, 84.0, 66.5, 66.3, 55.8, 75.7, 29.1, 43.7]"
   ]
  },
  {
   "cell_type": "code",
   "execution_count": 13,
   "metadata": {
    "colab": {},
    "colab_type": "code",
    "id": "jDIb1LZDOaju"
   },
   "outputs": [
    {
     "data": {
      "text/plain": [
       "0     5.7\n",
       "1    75.2\n",
       "2    74.4\n",
       "3    84.0\n",
       "4    66.5\n",
       "5    66.3\n",
       "6    55.8\n",
       "7    75.7\n",
       "8    29.1\n",
       "9    43.7\n",
       "dtype: float64"
      ]
     },
     "execution_count": 13,
     "metadata": {},
     "output_type": "execute_result"
    }
   ],
   "source": [
    "# your code here\n",
    "\n",
    "pd.Series([5.7, 75.2, 74.4, 84.0, 66.5, 66.3, 55.8, 75.7, 29.1, 43.7])"
   ]
  },
  {
   "cell_type": "markdown",
   "metadata": {
    "colab_type": "text",
    "id": "D5asOdE0Oajy"
   },
   "source": [
    "#### 3. Use indexing to return the third value in the Series above.\n",
    "\n",
    "*Hint: Remember that indexing begins at 0.*"
   ]
  },
  {
   "cell_type": "code",
   "execution_count": 15,
   "metadata": {
    "colab": {},
    "colab_type": "code",
    "id": "Nd8JObixOajz"
   },
   "outputs": [
    {
     "data": {
      "text/plain": [
       "74.4"
      ]
     },
     "execution_count": 15,
     "metadata": {},
     "output_type": "execute_result"
    }
   ],
   "source": [
    "# your code here\n",
    "\n",
    "data = pd.Series([5.7, 75.2, 74.4, 84.0, 66.5, 66.3, 55.8, 75.7, 29.1, 43.7])\n",
    "\n",
    "data\n",
    "\n",
    "data[2]"
   ]
  },
  {
   "cell_type": "markdown",
   "metadata": {
    "colab_type": "text",
    "id": "M06z_OPLOaj3"
   },
   "source": [
    "#### 4. Create a Pandas DataFrame from the list of lists below. Each sublist should be represented as a row.\n",
    "\n",
    "Expected output:\n",
    "\n",
    "|    |    0 |    1 |    2 |    3 |    4 |\n",
    "|---:|-----:|-----:|-----:|-----:|-----:|\n",
    "|  0 | 53.1 | 95   | 67.5 | 35   | 78.4 |\n",
    "|  1 | 61.3 | 40.8 | 30.8 | 37.8 | 87.6 |\n",
    "|  2 | 20.6 | 73.2 | 44.2 | 14.6 | 91.8 |\n",
    "|  3 | 57.4 |  0.1 | 96.1 |  4.2 | 69.5 |\n",
    "|  4 | 83.6 | 20.5 | 85.4 | 22.8 | 35.9 |\n",
    "|  5 | 49   | 69   |  0.1 | 31.8 | 89.1 |\n",
    "|  6 | 23.3 | 40.7 | 95   | 83.8 | 26.9 |\n",
    "|  7 | 27.6 | 26.4 | 53.8 | 88.8 | 68.5 |\n",
    "|  8 | 96.6 | 96.4 | 53.4 | 72.4 | 50.1 |\n",
    "|  9 | 73.7 | 39   | 43.2 | 81.6 | 34.7 |"
   ]
  },
  {
   "cell_type": "code",
   "execution_count": 16,
   "metadata": {
    "colab": {},
    "colab_type": "code",
    "id": "TJ2X7jXvOaj5"
   },
   "outputs": [],
   "source": [
    "b = [[53.1, 95.0, 67.5, 35.0, 78.4],\n",
    "     [61.3, 40.8, 30.8, 37.8, 87.6],\n",
    "     [20.6, 73.2, 44.2, 14.6, 91.8],\n",
    "     [57.4, 0.1, 96.1, 4.2, 69.5],\n",
    "     [83.6, 20.5, 85.4, 22.8, 35.9],\n",
    "     [49.0, 69.0, 0.1, 31.8, 89.1],\n",
    "     [23.3, 40.7, 95.0, 83.8, 26.9],\n",
    "     [27.6, 26.4, 53.8, 88.8, 68.5],\n",
    "     [96.6, 96.4, 53.4, 72.4, 50.1],\n",
    "     [73.7, 39.0, 43.2, 81.6, 34.7]]"
   ]
  },
  {
   "cell_type": "code",
   "execution_count": 63,
   "metadata": {
    "colab": {},
    "colab_type": "code",
    "id": "uAjXmK9VOakA"
   },
   "outputs": [
    {
     "data": {
      "text/html": [
       "<div>\n",
       "<style scoped>\n",
       "    .dataframe tbody tr th:only-of-type {\n",
       "        vertical-align: middle;\n",
       "    }\n",
       "\n",
       "    .dataframe tbody tr th {\n",
       "        vertical-align: top;\n",
       "    }\n",
       "\n",
       "    .dataframe thead th {\n",
       "        text-align: right;\n",
       "    }\n",
       "</style>\n",
       "<table border=\"1\" class=\"dataframe\">\n",
       "  <thead>\n",
       "    <tr style=\"text-align: right;\">\n",
       "      <th></th>\n",
       "      <th>0</th>\n",
       "      <th>1</th>\n",
       "      <th>2</th>\n",
       "      <th>3</th>\n",
       "      <th>4</th>\n",
       "    </tr>\n",
       "  </thead>\n",
       "  <tbody>\n",
       "    <tr>\n",
       "      <th>0</th>\n",
       "      <td>53.1</td>\n",
       "      <td>95.0</td>\n",
       "      <td>67.5</td>\n",
       "      <td>35.0</td>\n",
       "      <td>78.4</td>\n",
       "    </tr>\n",
       "    <tr>\n",
       "      <th>1</th>\n",
       "      <td>61.3</td>\n",
       "      <td>40.8</td>\n",
       "      <td>30.8</td>\n",
       "      <td>37.8</td>\n",
       "      <td>87.6</td>\n",
       "    </tr>\n",
       "    <tr>\n",
       "      <th>2</th>\n",
       "      <td>20.6</td>\n",
       "      <td>73.2</td>\n",
       "      <td>44.2</td>\n",
       "      <td>14.6</td>\n",
       "      <td>91.8</td>\n",
       "    </tr>\n",
       "    <tr>\n",
       "      <th>3</th>\n",
       "      <td>57.4</td>\n",
       "      <td>0.1</td>\n",
       "      <td>96.1</td>\n",
       "      <td>4.2</td>\n",
       "      <td>69.5</td>\n",
       "    </tr>\n",
       "    <tr>\n",
       "      <th>4</th>\n",
       "      <td>83.6</td>\n",
       "      <td>20.5</td>\n",
       "      <td>85.4</td>\n",
       "      <td>22.8</td>\n",
       "      <td>35.9</td>\n",
       "    </tr>\n",
       "    <tr>\n",
       "      <th>5</th>\n",
       "      <td>49.0</td>\n",
       "      <td>69.0</td>\n",
       "      <td>0.1</td>\n",
       "      <td>31.8</td>\n",
       "      <td>89.1</td>\n",
       "    </tr>\n",
       "    <tr>\n",
       "      <th>6</th>\n",
       "      <td>23.3</td>\n",
       "      <td>40.7</td>\n",
       "      <td>95.0</td>\n",
       "      <td>83.8</td>\n",
       "      <td>26.9</td>\n",
       "    </tr>\n",
       "    <tr>\n",
       "      <th>7</th>\n",
       "      <td>27.6</td>\n",
       "      <td>26.4</td>\n",
       "      <td>53.8</td>\n",
       "      <td>88.8</td>\n",
       "      <td>68.5</td>\n",
       "    </tr>\n",
       "    <tr>\n",
       "      <th>8</th>\n",
       "      <td>96.6</td>\n",
       "      <td>96.4</td>\n",
       "      <td>53.4</td>\n",
       "      <td>72.4</td>\n",
       "      <td>50.1</td>\n",
       "    </tr>\n",
       "    <tr>\n",
       "      <th>9</th>\n",
       "      <td>73.7</td>\n",
       "      <td>39.0</td>\n",
       "      <td>43.2</td>\n",
       "      <td>81.6</td>\n",
       "      <td>34.7</td>\n",
       "    </tr>\n",
       "  </tbody>\n",
       "</table>\n",
       "</div>"
      ],
      "text/plain": [
       "      0     1     2     3     4\n",
       "0  53.1  95.0  67.5  35.0  78.4\n",
       "1  61.3  40.8  30.8  37.8  87.6\n",
       "2  20.6  73.2  44.2  14.6  91.8\n",
       "3  57.4   0.1  96.1   4.2  69.5\n",
       "4  83.6  20.5  85.4  22.8  35.9\n",
       "5  49.0  69.0   0.1  31.8  89.1\n",
       "6  23.3  40.7  95.0  83.8  26.9\n",
       "7  27.6  26.4  53.8  88.8  68.5\n",
       "8  96.6  96.4  53.4  72.4  50.1\n",
       "9  73.7  39.0  43.2  81.6  34.7"
      ]
     },
     "execution_count": 63,
     "metadata": {},
     "output_type": "execute_result"
    }
   ],
   "source": [
    "# your code here\n",
    "\n",
    "d = pd.DataFrame(b)\n",
    "d"
   ]
  },
  {
   "cell_type": "markdown",
   "metadata": {
    "colab_type": "text",
    "id": "unMpXDeYOakG"
   },
   "source": [
    "#### 5. Rename the data frame columns based on the names in the list below.\n",
    "\n",
    "Expected output:\n",
    "\n",
    "|    |   Score_1 |   Score_2 |   Score_3 |   Score_4 |   Score_5 |\n",
    "|---:|----------:|----------:|----------:|----------:|----------:|\n",
    "|  0 |      53.1 |      95   |      67.5 |      35   |      78.4 |\n",
    "|  1 |      61.3 |      40.8 |      30.8 |      37.8 |      87.6 |\n",
    "|  2 |      20.6 |      73.2 |      44.2 |      14.6 |      91.8 |\n",
    "|  3 |      57.4 |       0.1 |      96.1 |       4.2 |      69.5 |\n",
    "|  4 |      83.6 |      20.5 |      85.4 |      22.8 |      35.9 |\n",
    "|  5 |      49   |      69   |       0.1 |      31.8 |      89.1 |\n",
    "|  6 |      23.3 |      40.7 |      95   |      83.8 |      26.9 |\n",
    "|  7 |      27.6 |      26.4 |      53.8 |      88.8 |      68.5 |\n",
    "|  8 |      96.6 |      96.4 |      53.4 |      72.4 |      50.1 |\n",
    "|  9 |      73.7 |      39   |      43.2 |      81.6 |      34.7 |"
   ]
  },
  {
   "cell_type": "code",
   "execution_count": 23,
   "metadata": {
    "colab": {},
    "colab_type": "code",
    "id": "CR6Od3jCOakH"
   },
   "outputs": [],
   "source": [
    "colnames = ['Score_1', 'Score_2', 'Score_3', 'Score_4', 'Score_5']"
   ]
  },
  {
   "cell_type": "code",
   "execution_count": 66,
   "metadata": {
    "colab": {},
    "colab_type": "code",
    "id": "4IGnjLB_OakL"
   },
   "outputs": [
    {
     "data": {
      "text/html": [
       "<div>\n",
       "<style scoped>\n",
       "    .dataframe tbody tr th:only-of-type {\n",
       "        vertical-align: middle;\n",
       "    }\n",
       "\n",
       "    .dataframe tbody tr th {\n",
       "        vertical-align: top;\n",
       "    }\n",
       "\n",
       "    .dataframe thead th {\n",
       "        text-align: right;\n",
       "    }\n",
       "</style>\n",
       "<table border=\"1\" class=\"dataframe\">\n",
       "  <thead>\n",
       "    <tr style=\"text-align: right;\">\n",
       "      <th></th>\n",
       "      <th>Score_1</th>\n",
       "      <th>Score_2</th>\n",
       "      <th>Score_3</th>\n",
       "      <th>Score_4</th>\n",
       "      <th>Score_5</th>\n",
       "    </tr>\n",
       "  </thead>\n",
       "  <tbody>\n",
       "    <tr>\n",
       "      <th>0</th>\n",
       "      <td>53.1</td>\n",
       "      <td>95.0</td>\n",
       "      <td>67.5</td>\n",
       "      <td>35.0</td>\n",
       "      <td>78.4</td>\n",
       "    </tr>\n",
       "    <tr>\n",
       "      <th>1</th>\n",
       "      <td>61.3</td>\n",
       "      <td>40.8</td>\n",
       "      <td>30.8</td>\n",
       "      <td>37.8</td>\n",
       "      <td>87.6</td>\n",
       "    </tr>\n",
       "    <tr>\n",
       "      <th>2</th>\n",
       "      <td>20.6</td>\n",
       "      <td>73.2</td>\n",
       "      <td>44.2</td>\n",
       "      <td>14.6</td>\n",
       "      <td>91.8</td>\n",
       "    </tr>\n",
       "    <tr>\n",
       "      <th>3</th>\n",
       "      <td>57.4</td>\n",
       "      <td>0.1</td>\n",
       "      <td>96.1</td>\n",
       "      <td>4.2</td>\n",
       "      <td>69.5</td>\n",
       "    </tr>\n",
       "    <tr>\n",
       "      <th>4</th>\n",
       "      <td>83.6</td>\n",
       "      <td>20.5</td>\n",
       "      <td>85.4</td>\n",
       "      <td>22.8</td>\n",
       "      <td>35.9</td>\n",
       "    </tr>\n",
       "    <tr>\n",
       "      <th>5</th>\n",
       "      <td>49.0</td>\n",
       "      <td>69.0</td>\n",
       "      <td>0.1</td>\n",
       "      <td>31.8</td>\n",
       "      <td>89.1</td>\n",
       "    </tr>\n",
       "    <tr>\n",
       "      <th>6</th>\n",
       "      <td>23.3</td>\n",
       "      <td>40.7</td>\n",
       "      <td>95.0</td>\n",
       "      <td>83.8</td>\n",
       "      <td>26.9</td>\n",
       "    </tr>\n",
       "    <tr>\n",
       "      <th>7</th>\n",
       "      <td>27.6</td>\n",
       "      <td>26.4</td>\n",
       "      <td>53.8</td>\n",
       "      <td>88.8</td>\n",
       "      <td>68.5</td>\n",
       "    </tr>\n",
       "    <tr>\n",
       "      <th>8</th>\n",
       "      <td>96.6</td>\n",
       "      <td>96.4</td>\n",
       "      <td>53.4</td>\n",
       "      <td>72.4</td>\n",
       "      <td>50.1</td>\n",
       "    </tr>\n",
       "    <tr>\n",
       "      <th>9</th>\n",
       "      <td>73.7</td>\n",
       "      <td>39.0</td>\n",
       "      <td>43.2</td>\n",
       "      <td>81.6</td>\n",
       "      <td>34.7</td>\n",
       "    </tr>\n",
       "  </tbody>\n",
       "</table>\n",
       "</div>"
      ],
      "text/plain": [
       "   Score_1  Score_2  Score_3  Score_4  Score_5\n",
       "0     53.1     95.0     67.5     35.0     78.4\n",
       "1     61.3     40.8     30.8     37.8     87.6\n",
       "2     20.6     73.2     44.2     14.6     91.8\n",
       "3     57.4      0.1     96.1      4.2     69.5\n",
       "4     83.6     20.5     85.4     22.8     35.9\n",
       "5     49.0     69.0      0.1     31.8     89.1\n",
       "6     23.3     40.7     95.0     83.8     26.9\n",
       "7     27.6     26.4     53.8     88.8     68.5\n",
       "8     96.6     96.4     53.4     72.4     50.1\n",
       "9     73.7     39.0     43.2     81.6     34.7"
      ]
     },
     "execution_count": 66,
     "metadata": {},
     "output_type": "execute_result"
    }
   ],
   "source": [
    "# your code here\n",
    "\n",
    "d.columns = colnames\n",
    "\n",
    "d"
   ]
  },
  {
   "cell_type": "markdown",
   "metadata": {
    "colab_type": "text",
    "id": "BSSlC9sHOakQ"
   },
   "source": [
    "#### 6. Create a subset of this data frame that contains only the Score 1, 3, and 5 columns.\n",
    "\n",
    "Expected output:\n",
    "\n",
    "|    |   Score_1 |   Score_3 |   Score_5 |\n",
    "|---:|----------:|----------:|----------:|\n",
    "|  0 |      53.1 |      67.5 |      78.4 |\n",
    "|  1 |      61.3 |      30.8 |      87.6 |\n",
    "|  2 |      20.6 |      44.2 |      91.8 |\n",
    "|  3 |      57.4 |      96.1 |      69.5 |\n",
    "|  4 |      83.6 |      85.4 |      35.9 |\n",
    "|  5 |      49   |       0.1 |      89.1 |\n",
    "|  6 |      23.3 |      95   |      26.9 |\n",
    "|  7 |      27.6 |      53.8 |      68.5 |\n",
    "|  8 |      96.6 |      53.4 |      50.1 |\n",
    "|  9 |      73.7 |      43.2 |      34.7 |"
   ]
  },
  {
   "cell_type": "code",
   "execution_count": 79,
   "metadata": {
    "colab": {},
    "colab_type": "code",
    "id": "vAyr7_cpOakR",
    "scrolled": true
   },
   "outputs": [
    {
     "data": {
      "text/html": [
       "<div>\n",
       "<style scoped>\n",
       "    .dataframe tbody tr th:only-of-type {\n",
       "        vertical-align: middle;\n",
       "    }\n",
       "\n",
       "    .dataframe tbody tr th {\n",
       "        vertical-align: top;\n",
       "    }\n",
       "\n",
       "    .dataframe thead th {\n",
       "        text-align: right;\n",
       "    }\n",
       "</style>\n",
       "<table border=\"1\" class=\"dataframe\">\n",
       "  <thead>\n",
       "    <tr style=\"text-align: right;\">\n",
       "      <th></th>\n",
       "      <th>Score_1</th>\n",
       "      <th>Score_3</th>\n",
       "      <th>Score_5</th>\n",
       "    </tr>\n",
       "  </thead>\n",
       "  <tbody>\n",
       "    <tr>\n",
       "      <th>0</th>\n",
       "      <td>53.1</td>\n",
       "      <td>67.5</td>\n",
       "      <td>78.4</td>\n",
       "    </tr>\n",
       "    <tr>\n",
       "      <th>1</th>\n",
       "      <td>61.3</td>\n",
       "      <td>30.8</td>\n",
       "      <td>87.6</td>\n",
       "    </tr>\n",
       "    <tr>\n",
       "      <th>2</th>\n",
       "      <td>20.6</td>\n",
       "      <td>44.2</td>\n",
       "      <td>91.8</td>\n",
       "    </tr>\n",
       "    <tr>\n",
       "      <th>3</th>\n",
       "      <td>57.4</td>\n",
       "      <td>96.1</td>\n",
       "      <td>69.5</td>\n",
       "    </tr>\n",
       "    <tr>\n",
       "      <th>4</th>\n",
       "      <td>83.6</td>\n",
       "      <td>85.4</td>\n",
       "      <td>35.9</td>\n",
       "    </tr>\n",
       "    <tr>\n",
       "      <th>5</th>\n",
       "      <td>49.0</td>\n",
       "      <td>0.1</td>\n",
       "      <td>89.1</td>\n",
       "    </tr>\n",
       "    <tr>\n",
       "      <th>6</th>\n",
       "      <td>23.3</td>\n",
       "      <td>95.0</td>\n",
       "      <td>26.9</td>\n",
       "    </tr>\n",
       "    <tr>\n",
       "      <th>7</th>\n",
       "      <td>27.6</td>\n",
       "      <td>53.8</td>\n",
       "      <td>68.5</td>\n",
       "    </tr>\n",
       "    <tr>\n",
       "      <th>8</th>\n",
       "      <td>96.6</td>\n",
       "      <td>53.4</td>\n",
       "      <td>50.1</td>\n",
       "    </tr>\n",
       "    <tr>\n",
       "      <th>9</th>\n",
       "      <td>73.7</td>\n",
       "      <td>43.2</td>\n",
       "      <td>34.7</td>\n",
       "    </tr>\n",
       "  </tbody>\n",
       "</table>\n",
       "</div>"
      ],
      "text/plain": [
       "   Score_1  Score_3  Score_5\n",
       "0     53.1     67.5     78.4\n",
       "1     61.3     30.8     87.6\n",
       "2     20.6     44.2     91.8\n",
       "3     57.4     96.1     69.5\n",
       "4     83.6     85.4     35.9\n",
       "5     49.0      0.1     89.1\n",
       "6     23.3     95.0     26.9\n",
       "7     27.6     53.8     68.5\n",
       "8     96.6     53.4     50.1\n",
       "9     73.7     43.2     34.7"
      ]
     },
     "execution_count": 79,
     "metadata": {},
     "output_type": "execute_result"
    }
   ],
   "source": [
    "# your code here\n",
    "\n",
    "d[['Score_1', 'Score_3', 'Score_5']]"
   ]
  },
  {
   "cell_type": "markdown",
   "metadata": {
    "colab_type": "text",
    "id": "miFKTP45OakV"
   },
   "source": [
    "#### 7. From the original data frame, calculate the average Score_3 value.\n",
    "\n",
    "Expected output:\n",
    "\n",
    "````python\n",
    "            56.95\n",
    "````"
   ]
  },
  {
   "cell_type": "code",
   "execution_count": 90,
   "metadata": {
    "colab": {},
    "colab_type": "code",
    "id": "MtfW8kfjOakW"
   },
   "outputs": [
    {
     "data": {
      "text/plain": [
       "56.95000000000001"
      ]
     },
     "execution_count": 90,
     "metadata": {},
     "output_type": "execute_result"
    }
   ],
   "source": [
    "# your code here\n",
    "\n",
    "d['Score_3'].mean()"
   ]
  },
  {
   "cell_type": "markdown",
   "metadata": {
    "colab_type": "text",
    "id": "6_0HFCAMOakb"
   },
   "source": [
    "#### 8. From the original data frame, calculate the maximum Score_4 value.\n",
    "\n",
    "Expected output:\n",
    "\n",
    "````python\n",
    "            88.8\n",
    "````"
   ]
  },
  {
   "cell_type": "code",
   "execution_count": 91,
   "metadata": {
    "colab": {},
    "colab_type": "code",
    "id": "nafpPRIaOakc"
   },
   "outputs": [
    {
     "data": {
      "text/plain": [
       "88.8"
      ]
     },
     "execution_count": 91,
     "metadata": {},
     "output_type": "execute_result"
    }
   ],
   "source": [
    "# your code here\n",
    "d['Score_4'].max()"
   ]
  },
  {
   "cell_type": "markdown",
   "metadata": {
    "colab_type": "text",
    "id": "hEBEuc8NOakg"
   },
   "source": [
    "#### 9. From the original data frame, calculate the median Score 2 value.\n",
    "\n",
    "Expected output:\n",
    "\n",
    "````python\n",
    "            40.75\n",
    "````"
   ]
  },
  {
   "cell_type": "code",
   "execution_count": 94,
   "metadata": {
    "colab": {},
    "colab_type": "code",
    "id": "zn1IpKxuOakh"
   },
   "outputs": [
    {
     "data": {
      "text/plain": [
       "40.75"
      ]
     },
     "execution_count": 94,
     "metadata": {},
     "output_type": "execute_result"
    }
   ],
   "source": [
    "# your code here\n",
    "d['Score_2'].median()"
   ]
  },
  {
   "cell_type": "markdown",
   "metadata": {
    "colab_type": "text",
    "id": "LxoUIsIBOakl"
   },
   "source": [
    "#### 10. Create a Pandas DataFrame from the dictionary of product orders below.\n",
    "\n",
    "Expected output:\n",
    "\n",
    "|    | Description                       |   Quantity |   UnitPrice |   Revenue |\n",
    "|---:|:----------------------------------|-----------:|------------:|----------:|\n",
    "|  0 | LUNCH BAG APPLE DESIGN            |          1 |        1.65 |      1.65 |\n",
    "|  1 | SET OF 60 VINTAGE LEAF CAKE CASES |         24 |        0.55 |     13.2  |\n",
    "|  2 | RIBBON REEL STRIPES DESIGN        |          1 |        1.65 |      1.65 |\n",
    "|  3 | WORLD WAR 2 GLIDERS ASSTD DESIGNS |       2880 |        0.18 |    518.4  |\n",
    "|  4 | PLAYING CARDS JUBILEE UNION JACK  |          2 |        1.25 |      2.5  |\n",
    "|  5 | POPCORN HOLDER                    |          7 |        0.85 |      5.95 |\n",
    "|  6 | BOX OF VINTAGE ALPHABET BLOCKS    |          1 |       11.95 |     11.95 |\n",
    "|  7 | PARTY BUNTING                     |          4 |        4.95 |     19.8  |\n",
    "|  8 | JAZZ HEARTS ADDRESS BOOK          |         10 |        0.19 |      1.9  |\n",
    "|  9 | SET OF 4 SANTA PLACE SETTINGS     |         48 |        1.25 |     60    |"
   ]
  },
  {
   "cell_type": "code",
   "execution_count": 95,
   "metadata": {
    "colab": {},
    "colab_type": "code",
    "id": "-w5XVN-aOakl"
   },
   "outputs": [],
   "source": [
    "orders = {'Description': ['LUNCH BAG APPLE DESIGN',\n",
    "  'SET OF 60 VINTAGE LEAF CAKE CASES ',\n",
    "  'RIBBON REEL STRIPES DESIGN ',\n",
    "  'WORLD WAR 2 GLIDERS ASSTD DESIGNS',\n",
    "  'PLAYING CARDS JUBILEE UNION JACK',\n",
    "  'POPCORN HOLDER',\n",
    "  'BOX OF VINTAGE ALPHABET BLOCKS',\n",
    "  'PARTY BUNTING',\n",
    "  'JAZZ HEARTS ADDRESS BOOK',\n",
    "  'SET OF 4 SANTA PLACE SETTINGS'],\n",
    " 'Quantity': [1, 24, 1, 2880, 2, 7, 1, 4, 10, 48],\n",
    " 'UnitPrice': [1.65, 0.55, 1.65, 0.18, 1.25, 0.85, 11.95, 4.95, 0.19, 1.25],\n",
    " 'Revenue': [1.65, 13.2, 1.65, 518.4, 2.5, 5.95, 11.95, 19.8, 1.9, 60.0]}"
   ]
  },
  {
   "cell_type": "code",
   "execution_count": 98,
   "metadata": {
    "colab": {},
    "colab_type": "code",
    "id": "EBy90Me3Oakp"
   },
   "outputs": [
    {
     "data": {
      "text/html": [
       "<div>\n",
       "<style scoped>\n",
       "    .dataframe tbody tr th:only-of-type {\n",
       "        vertical-align: middle;\n",
       "    }\n",
       "\n",
       "    .dataframe tbody tr th {\n",
       "        vertical-align: top;\n",
       "    }\n",
       "\n",
       "    .dataframe thead th {\n",
       "        text-align: right;\n",
       "    }\n",
       "</style>\n",
       "<table border=\"1\" class=\"dataframe\">\n",
       "  <thead>\n",
       "    <tr style=\"text-align: right;\">\n",
       "      <th></th>\n",
       "      <th>Description</th>\n",
       "      <th>Quantity</th>\n",
       "      <th>UnitPrice</th>\n",
       "      <th>Revenue</th>\n",
       "    </tr>\n",
       "  </thead>\n",
       "  <tbody>\n",
       "    <tr>\n",
       "      <th>0</th>\n",
       "      <td>LUNCH BAG APPLE DESIGN</td>\n",
       "      <td>1</td>\n",
       "      <td>1.65</td>\n",
       "      <td>1.65</td>\n",
       "    </tr>\n",
       "    <tr>\n",
       "      <th>1</th>\n",
       "      <td>SET OF 60 VINTAGE LEAF CAKE CASES</td>\n",
       "      <td>24</td>\n",
       "      <td>0.55</td>\n",
       "      <td>13.20</td>\n",
       "    </tr>\n",
       "    <tr>\n",
       "      <th>2</th>\n",
       "      <td>RIBBON REEL STRIPES DESIGN</td>\n",
       "      <td>1</td>\n",
       "      <td>1.65</td>\n",
       "      <td>1.65</td>\n",
       "    </tr>\n",
       "    <tr>\n",
       "      <th>3</th>\n",
       "      <td>WORLD WAR 2 GLIDERS ASSTD DESIGNS</td>\n",
       "      <td>2880</td>\n",
       "      <td>0.18</td>\n",
       "      <td>518.40</td>\n",
       "    </tr>\n",
       "    <tr>\n",
       "      <th>4</th>\n",
       "      <td>PLAYING CARDS JUBILEE UNION JACK</td>\n",
       "      <td>2</td>\n",
       "      <td>1.25</td>\n",
       "      <td>2.50</td>\n",
       "    </tr>\n",
       "    <tr>\n",
       "      <th>5</th>\n",
       "      <td>POPCORN HOLDER</td>\n",
       "      <td>7</td>\n",
       "      <td>0.85</td>\n",
       "      <td>5.95</td>\n",
       "    </tr>\n",
       "    <tr>\n",
       "      <th>6</th>\n",
       "      <td>BOX OF VINTAGE ALPHABET BLOCKS</td>\n",
       "      <td>1</td>\n",
       "      <td>11.95</td>\n",
       "      <td>11.95</td>\n",
       "    </tr>\n",
       "    <tr>\n",
       "      <th>7</th>\n",
       "      <td>PARTY BUNTING</td>\n",
       "      <td>4</td>\n",
       "      <td>4.95</td>\n",
       "      <td>19.80</td>\n",
       "    </tr>\n",
       "    <tr>\n",
       "      <th>8</th>\n",
       "      <td>JAZZ HEARTS ADDRESS BOOK</td>\n",
       "      <td>10</td>\n",
       "      <td>0.19</td>\n",
       "      <td>1.90</td>\n",
       "    </tr>\n",
       "    <tr>\n",
       "      <th>9</th>\n",
       "      <td>SET OF 4 SANTA PLACE SETTINGS</td>\n",
       "      <td>48</td>\n",
       "      <td>1.25</td>\n",
       "      <td>60.00</td>\n",
       "    </tr>\n",
       "  </tbody>\n",
       "</table>\n",
       "</div>"
      ],
      "text/plain": [
       "                          Description  Quantity  UnitPrice  Revenue\n",
       "0              LUNCH BAG APPLE DESIGN         1       1.65     1.65\n",
       "1  SET OF 60 VINTAGE LEAF CAKE CASES         24       0.55    13.20\n",
       "2         RIBBON REEL STRIPES DESIGN          1       1.65     1.65\n",
       "3   WORLD WAR 2 GLIDERS ASSTD DESIGNS      2880       0.18   518.40\n",
       "4    PLAYING CARDS JUBILEE UNION JACK         2       1.25     2.50\n",
       "5                      POPCORN HOLDER         7       0.85     5.95\n",
       "6      BOX OF VINTAGE ALPHABET BLOCKS         1      11.95    11.95\n",
       "7                       PARTY BUNTING         4       4.95    19.80\n",
       "8            JAZZ HEARTS ADDRESS BOOK        10       0.19     1.90\n",
       "9       SET OF 4 SANTA PLACE SETTINGS        48       1.25    60.00"
      ]
     },
     "execution_count": 98,
     "metadata": {},
     "output_type": "execute_result"
    }
   ],
   "source": [
    "# your code here\n",
    "\n",
    "p = pd.DataFrame(orders)\n",
    "p"
   ]
  },
  {
   "cell_type": "markdown",
   "metadata": {
    "colab_type": "text",
    "id": "9ssXX6XPOakt"
   },
   "source": [
    "#### 11. Calculate the total quantity ordered and revenue generated from these orders.\n",
    "\n",
    "Expected output:\n",
    "\n",
    "````python\n",
    "            Quantity    2978.0\n",
    "            Revenue      637.0\n",
    "````"
   ]
  },
  {
   "cell_type": "code",
   "execution_count": 107,
   "metadata": {
    "colab": {},
    "colab_type": "code",
    "id": "YitrlNafOaku"
   },
   "outputs": [
    {
     "name": "stdout",
     "output_type": "stream",
     "text": [
      "2978\n",
      "637.0\n"
     ]
    }
   ],
   "source": [
    "# your code here\n",
    "\n",
    "Quantity = p['Quantity'].sum()\n",
    "print(Quantity)\n",
    "\n",
    "\n",
    "Revenue = p['Revenue'].sum()\n",
    "print(Revenue)"
   ]
  },
  {
   "cell_type": "markdown",
   "metadata": {
    "colab_type": "text",
    "id": "GlSWl9TZOakz"
   },
   "source": [
    "#### 12. Obtain the prices of the most expensive and least expensive items ordered and print the difference.\n",
    "Expected output:\n",
    "\n",
    "````python\n",
    "            Most expensive:  11.95\n",
    "            Least expensive:  0.18\n",
    "            Difference:  11.77\n",
    "````"
   ]
  },
  {
   "cell_type": "code",
   "execution_count": 112,
   "metadata": {
    "colab": {},
    "colab_type": "code",
    "id": "c1r8EZT6Oak0"
   },
   "outputs": [
    {
     "name": "stdout",
     "output_type": "stream",
     "text": [
      "11.95\n",
      "0.18\n",
      "11.77\n"
     ]
    }
   ],
   "source": [
    "# your code here\n",
    "\n",
    "Most_expensive = p['UnitPrice'].max()\n",
    "print(Most_expensive)\n",
    "\n",
    "Least_exp = p['UnitPrice'].min()\n",
    "print(Least_exp)\n",
    "\n",
    "Difference = Most_expensive - Least_exp\n",
    "print(Difference)"
   ]
  },
  {
   "cell_type": "markdown",
   "metadata": {
    "colab_type": "text",
    "id": "RweZ9QLBOak3"
   },
   "source": [
    "# BONUS"
   ]
  },
  {
   "cell_type": "markdown",
   "metadata": {
    "colab_type": "text",
    "id": "1w9-ZnH6Oak4"
   },
   "source": [
    "#### 1 Create a random dataframe containing 3 columns and 10 rows. \n",
    "\n",
    "*Hint: You'll have to use a `numpy.random` method to create random observations*\n",
    "\n",
    "**Example of output:**\n",
    "\n",
    "|    |         0 |        1 |        2 |\n",
    "|---:|----------:|---------:|---------:|\n",
    "|  0 | 0.0883504 | 0.867054 | 0.977949 |\n",
    "|  1 | 0.819555  | 0.643927 | 0.122975 |\n",
    "|  2 | 0.484618  | 0.515125 | 0.807791 |\n",
    "|  3 | 0.539583  | 0.620799 | 0.926963 |\n",
    "|  4 | 0.0479896 | 0.772282 | 0.621921 |\n",
    "|  5 | 0.1398    | 0.767678 | 0.678816 |\n",
    "|  6 | 0.0895157 | 0.242867 | 0.887941 |\n",
    "|  7 | 0.160186  | 0.750576 | 0.439416 |\n",
    "|  8 | 0.982747  | 0.652903 | 0.575518 |\n",
    "|  9 | 0.646373  | 0.523237 | 0.700222 |"
   ]
  },
  {
   "cell_type": "code",
   "execution_count": 0,
   "metadata": {
    "colab": {},
    "colab_type": "code",
    "id": "ucxwFx9TOak5"
   },
   "outputs": [],
   "source": [
    "# your code here"
   ]
  },
  {
   "cell_type": "markdown",
   "metadata": {
    "colab_type": "text",
    "id": "clFAoNoYOak8"
   },
   "source": [
    "#### 2 Create a random dataframe containing 3 columns and 10 rows with specific column names. \n",
    "\n",
    "Use `['column1', 'column2', 'column3']` as the column names.\n",
    "\n",
    "**Example of output:**\n",
    "\n",
    "|    |   column1 |   column2 |   column3 |\n",
    "|---:|----------:|----------:|----------:|\n",
    "|  0 |        10 |        21 |        45 |\n",
    "|  1 |        32 |        87 |        39 |\n",
    "|  2 |        93 |        53 |         8 |\n",
    "|  3 |        52 |        77 |        41 |\n",
    "|  4 |        72 |        50 |        31 |\n",
    "|  5 |        16 |         6 |        41 |\n",
    "|  6 |        66 |        33 |        62 |\n",
    "|  7 |        97 |        50 |        92 |\n",
    "|  8 |        21 |        71 |        42 |\n",
    "|  9 |        91 |        97 |        32 |"
   ]
  },
  {
   "cell_type": "code",
   "execution_count": 0,
   "metadata": {
    "colab": {},
    "colab_type": "code",
    "id": "4VaCdj95Oak9"
   },
   "outputs": [],
   "source": [
    "# your code here"
   ]
  },
  {
   "cell_type": "markdown",
   "metadata": {
    "colab_type": "text",
    "id": "t7SMOQNkOalA"
   },
   "source": [
    "#### 3 Create a random dataframe containing N columns and M rows with specific column names.\n",
    "\n",
    "For this task you'll have to name the columns as `['column1', 'column2', 'column3', ...,'columnN']`. You can use a list comprehension to do that."
   ]
  },
  {
   "cell_type": "code",
   "execution_count": 0,
   "metadata": {
    "colab": {},
    "colab_type": "code",
    "id": "y6o68u5HOalB"
   },
   "outputs": [],
   "source": [
    "N = 10\n",
    "M = 30\n",
    "\n",
    "# your code here"
   ]
  }
 ],
 "metadata": {
  "colab": {
   "collapsed_sections": [],
   "name": "main.ipynb",
   "provenance": []
  },
  "kernelspec": {
   "display_name": "Python 3",
   "language": "python",
   "name": "python3"
  },
  "language_info": {
   "codemirror_mode": {
    "name": "ipython",
    "version": 3
   },
   "file_extension": ".py",
   "mimetype": "text/x-python",
   "name": "python",
   "nbconvert_exporter": "python",
   "pygments_lexer": "ipython3",
   "version": "3.7.6"
  }
 },
 "nbformat": 4,
 "nbformat_minor": 1
}
