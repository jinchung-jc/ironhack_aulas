{
 "cells": [
  {
   "cell_type": "markdown",
   "metadata": {},
   "source": [
    "# Some python inherent `data structures`"
   ]
  },
  {
   "cell_type": "markdown",
   "metadata": {},
   "source": [
    "- Tuples\n",
    "- Dicts\n",
    "- Sets"
   ]
  },
  {
   "cell_type": "markdown",
   "metadata": {},
   "source": [
    "# Tuples"
   ]
  },
  {
   "cell_type": "markdown",
   "metadata": {},
   "source": [
    "## Creating a tuple"
   ]
  },
  {
   "cell_type": "code",
   "execution_count": null,
   "metadata": {
    "ExecuteTime": {
     "end_time": "2020-06-02T13:39:12.821078Z",
     "start_time": "2020-06-02T13:39:12.818086Z"
    }
   },
   "outputs": [],
   "source": [
    "# parenthesis and separate by comma\n",
    "x = (10, 20)"
   ]
  },
  {
   "cell_type": "code",
   "execution_count": null,
   "metadata": {
    "ExecuteTime": {
     "end_time": "2020-06-02T13:39:21.454379Z",
     "start_time": "2020-06-02T13:39:21.450390Z"
    }
   },
   "outputs": [],
   "source": [
    "type(x)"
   ]
  },
  {
   "cell_type": "code",
   "execution_count": null,
   "metadata": {
    "ExecuteTime": {
     "end_time": "2020-06-02T13:39:39.514005Z",
     "start_time": "2020-06-02T13:39:39.511035Z"
    }
   },
   "outputs": [],
   "source": [
    "y = (10)"
   ]
  },
  {
   "cell_type": "code",
   "execution_count": null,
   "metadata": {
    "ExecuteTime": {
     "end_time": "2020-06-02T13:39:41.785368Z",
     "start_time": "2020-06-02T13:39:41.781379Z"
    }
   },
   "outputs": [],
   "source": [
    "type(y)"
   ]
  },
  {
   "cell_type": "code",
   "execution_count": null,
   "metadata": {
    "ExecuteTime": {
     "end_time": "2020-06-02T13:39:59.264856Z",
     "start_time": "2020-06-02T13:39:59.260868Z"
    }
   },
   "outputs": [],
   "source": [
    "y = (10,)"
   ]
  },
  {
   "cell_type": "code",
   "execution_count": null,
   "metadata": {
    "ExecuteTime": {
     "end_time": "2020-06-02T13:40:01.478571Z",
     "start_time": "2020-06-02T13:40:01.474582Z"
    }
   },
   "outputs": [],
   "source": [
    "type(y)"
   ]
  },
  {
   "cell_type": "code",
   "execution_count": null,
   "metadata": {
    "ExecuteTime": {
     "end_time": "2020-06-02T13:40:18.987108Z",
     "start_time": "2020-06-02T13:40:18.984116Z"
    }
   },
   "outputs": [],
   "source": [
    "tuple([10])"
   ]
  },
  {
   "cell_type": "code",
   "execution_count": null,
   "metadata": {
    "ExecuteTime": {
     "end_time": "2020-06-02T13:40:48.415430Z",
     "start_time": "2020-06-02T13:40:48.411413Z"
    }
   },
   "outputs": [],
   "source": [
    "z = ()\n",
    "type(z)"
   ]
  },
  {
   "cell_type": "code",
   "execution_count": null,
   "metadata": {
    "ExecuteTime": {
     "end_time": "2020-06-02T13:40:59.592561Z",
     "start_time": "2020-06-02T13:40:59.588571Z"
    }
   },
   "outputs": [],
   "source": [
    "z = tuple()\n",
    "type(z)"
   ]
  },
  {
   "cell_type": "markdown",
   "metadata": {},
   "source": [
    "## Transforming a list into a tuple"
   ]
  },
  {
   "cell_type": "code",
   "execution_count": null,
   "metadata": {
    "ExecuteTime": {
     "end_time": "2020-06-02T13:41:59.354253Z",
     "start_time": "2020-06-02T13:41:59.351262Z"
    }
   },
   "outputs": [],
   "source": [
    "my_list = [1,3,5,8]"
   ]
  },
  {
   "cell_type": "code",
   "execution_count": null,
   "metadata": {
    "ExecuteTime": {
     "end_time": "2020-06-02T13:42:01.291550Z",
     "start_time": "2020-06-02T13:42:01.287589Z"
    }
   },
   "outputs": [],
   "source": [
    "type(my_list)"
   ]
  },
  {
   "cell_type": "code",
   "execution_count": null,
   "metadata": {
    "ExecuteTime": {
     "end_time": "2020-06-02T13:42:04.589283Z",
     "start_time": "2020-06-02T13:42:04.585294Z"
    }
   },
   "outputs": [],
   "source": [
    "y = tuple(my_list)\n",
    "y"
   ]
  },
  {
   "cell_type": "code",
   "execution_count": null,
   "metadata": {
    "ExecuteTime": {
     "end_time": "2020-06-02T13:43:02.395858Z",
     "start_time": "2020-06-02T13:43:02.391869Z"
    }
   },
   "outputs": [],
   "source": [
    "range(20)"
   ]
  },
  {
   "cell_type": "code",
   "execution_count": null,
   "metadata": {
    "ExecuteTime": {
     "end_time": "2020-06-02T13:42:53.316808Z",
     "start_time": "2020-06-02T13:42:53.311821Z"
    }
   },
   "outputs": [],
   "source": [
    "tuple(range(20))"
   ]
  },
  {
   "cell_type": "code",
   "execution_count": null,
   "metadata": {
    "ExecuteTime": {
     "end_time": "2020-06-02T13:43:21.329110Z",
     "start_time": "2020-06-02T13:43:21.325123Z"
    }
   },
   "outputs": [],
   "source": [
    "# converting back\n",
    "y = list(y)"
   ]
  },
  {
   "cell_type": "code",
   "execution_count": null,
   "metadata": {
    "ExecuteTime": {
     "end_time": "2020-06-02T13:43:22.331119Z",
     "start_time": "2020-06-02T13:43:22.327129Z"
    }
   },
   "outputs": [],
   "source": [
    "y"
   ]
  },
  {
   "cell_type": "code",
   "execution_count": null,
   "metadata": {
    "ExecuteTime": {
     "end_time": "2020-06-02T13:43:26.858544Z",
     "start_time": "2020-06-02T13:43:26.854554Z"
    }
   },
   "outputs": [],
   "source": [
    "type(y)"
   ]
  },
  {
   "cell_type": "markdown",
   "metadata": {},
   "source": [
    "## Accessing an element in a tuple"
   ]
  },
  {
   "cell_type": "code",
   "execution_count": null,
   "metadata": {
    "ExecuteTime": {
     "end_time": "2020-06-02T13:43:52.887594Z",
     "start_time": "2020-06-02T13:43:52.885570Z"
    }
   },
   "outputs": [],
   "source": [
    "y = (10, 20, 30)"
   ]
  },
  {
   "cell_type": "code",
   "execution_count": null,
   "metadata": {
    "ExecuteTime": {
     "end_time": "2020-06-02T13:43:55.468398Z",
     "start_time": "2020-06-02T13:43:55.465406Z"
    }
   },
   "outputs": [],
   "source": [
    "y"
   ]
  },
  {
   "cell_type": "code",
   "execution_count": null,
   "metadata": {
    "ExecuteTime": {
     "end_time": "2020-06-02T13:44:05.961249Z",
     "start_time": "2020-06-02T13:44:05.957260Z"
    }
   },
   "outputs": [],
   "source": [
    "y[0]"
   ]
  },
  {
   "cell_type": "code",
   "execution_count": null,
   "metadata": {
    "ExecuteTime": {
     "end_time": "2020-06-02T13:44:19.827726Z",
     "start_time": "2020-06-02T13:44:19.823737Z"
    }
   },
   "outputs": [],
   "source": [
    "y[1]"
   ]
  },
  {
   "cell_type": "code",
   "execution_count": null,
   "metadata": {
    "ExecuteTime": {
     "end_time": "2020-06-02T13:44:31.283841Z",
     "start_time": "2020-06-02T13:44:31.279852Z"
    }
   },
   "outputs": [],
   "source": [
    "y[-1]"
   ]
  },
  {
   "cell_type": "code",
   "execution_count": null,
   "metadata": {
    "ExecuteTime": {
     "end_time": "2020-06-02T13:44:53.164752Z",
     "start_time": "2020-06-02T13:44:53.160783Z"
    }
   },
   "outputs": [],
   "source": [
    "y[-2]"
   ]
  },
  {
   "cell_type": "markdown",
   "metadata": {},
   "source": [
    "## Running through a tuple"
   ]
  },
  {
   "cell_type": "markdown",
   "metadata": {},
   "source": [
    "Tuples and lists are what is called in Python **iterators**. It means you can run through it. \n",
    "\n",
    "The syntax is simple: \n",
    "\n",
    "```python\n",
    "my_tuple = (1, 5, 8)\n",
    "\n",
    "for element in my_tuple:\n",
    "    # now you have access to each element\n",
    "    print(element)\n",
    "\n",
    "# Output\n",
    "1\n",
    "5\n",
    "8\n",
    "```\n"
   ]
  },
  {
   "cell_type": "code",
   "execution_count": null,
   "metadata": {
    "ExecuteTime": {
     "end_time": "2020-06-02T13:46:04.269070Z",
     "start_time": "2020-06-02T13:46:04.265081Z"
    }
   },
   "outputs": [],
   "source": [
    "for i in y:\n",
    "    print(i)"
   ]
  },
  {
   "cell_type": "code",
   "execution_count": null,
   "metadata": {
    "ExecuteTime": {
     "end_time": "2020-06-02T13:46:18.407361Z",
     "start_time": "2020-06-02T13:46:18.404369Z"
    }
   },
   "outputs": [],
   "source": [
    "for item in y:\n",
    "    print(item)"
   ]
  },
  {
   "cell_type": "code",
   "execution_count": null,
   "metadata": {
    "ExecuteTime": {
     "end_time": "2020-06-02T13:46:30.616310Z",
     "start_time": "2020-06-02T13:46:30.612322Z"
    }
   },
   "outputs": [],
   "source": [
    "for banana in y:\n",
    "    print(banana)"
   ]
  },
  {
   "cell_type": "code",
   "execution_count": null,
   "metadata": {
    "ExecuteTime": {
     "end_time": "2020-06-02T13:47:13.218176Z",
     "start_time": "2020-06-02T13:47:13.215215Z"
    }
   },
   "outputs": [],
   "source": [
    "y"
   ]
  },
  {
   "cell_type": "code",
   "execution_count": null,
   "metadata": {
    "ExecuteTime": {
     "end_time": "2020-06-02T13:52:44.060930Z",
     "start_time": "2020-06-02T13:52:44.056941Z"
    }
   },
   "outputs": [],
   "source": [
    "for index in range(len(y)):\n",
    "    print(index, y[index], y[index-1])"
   ]
  },
  {
   "cell_type": "markdown",
   "metadata": {},
   "source": [
    "## Applications"
   ]
  },
  {
   "cell_type": "code",
   "execution_count": null,
   "metadata": {
    "ExecuteTime": {
     "end_time": "2020-06-02T13:57:21.971284Z",
     "start_time": "2020-06-02T13:57:21.966297Z"
    }
   },
   "outputs": [],
   "source": [
    "x = 17\n",
    "y = 23\n",
    "\n",
    "coords = (x,y)\n",
    "coords"
   ]
  },
  {
   "cell_type": "code",
   "execution_count": null,
   "metadata": {
    "ExecuteTime": {
     "end_time": "2020-06-02T13:57:26.601509Z",
     "start_time": "2020-06-02T13:57:26.597519Z"
    }
   },
   "outputs": [],
   "source": [
    "coords"
   ]
  },
  {
   "cell_type": "code",
   "execution_count": null,
   "metadata": {
    "ExecuteTime": {
     "end_time": "2020-06-02T13:57:30.339944Z",
     "start_time": "2020-06-02T13:57:30.336952Z"
    }
   },
   "outputs": [],
   "source": [
    "z = 0"
   ]
  },
  {
   "cell_type": "code",
   "execution_count": null,
   "metadata": {
    "ExecuteTime": {
     "end_time": "2020-06-02T13:57:31.140849Z",
     "start_time": "2020-06-02T13:57:31.136832Z"
    }
   },
   "outputs": [],
   "source": [
    "coords = (x,y,z)\n",
    "coords"
   ]
  },
  {
   "cell_type": "markdown",
   "metadata": {},
   "source": [
    "## Tuples are immutable"
   ]
  },
  {
   "cell_type": "code",
   "execution_count": null,
   "metadata": {
    "ExecuteTime": {
     "end_time": "2020-06-02T13:57:49.748259Z",
     "start_time": "2020-06-02T13:57:49.741278Z"
    }
   },
   "outputs": [],
   "source": [
    "coords[0] = 30"
   ]
  },
  {
   "cell_type": "markdown",
   "metadata": {},
   "source": [
    "## Tuple methods"
   ]
  },
  {
   "cell_type": "code",
   "execution_count": null,
   "metadata": {
    "ExecuteTime": {
     "end_time": "2020-06-02T14:05:16.160415Z",
     "start_time": "2020-06-02T14:05:16.156426Z"
    }
   },
   "outputs": [],
   "source": [
    "coords.count(23)"
   ]
  },
  {
   "cell_type": "code",
   "execution_count": null,
   "metadata": {
    "ExecuteTime": {
     "end_time": "2020-06-02T13:59:30.338258Z",
     "start_time": "2020-06-02T13:59:30.334296Z"
    }
   },
   "outputs": [],
   "source": [
    "coords.count(24)"
   ]
  },
  {
   "cell_type": "code",
   "execution_count": null,
   "metadata": {
    "ExecuteTime": {
     "end_time": "2020-06-02T14:03:42.918107Z",
     "start_time": "2020-06-02T14:03:42.914420Z"
    }
   },
   "outputs": [],
   "source": [
    "y = (1,3,7,4,6,3,8,8)"
   ]
  },
  {
   "cell_type": "code",
   "execution_count": null,
   "metadata": {
    "ExecuteTime": {
     "end_time": "2020-06-02T14:03:43.231470Z",
     "start_time": "2020-06-02T14:03:43.227481Z"
    }
   },
   "outputs": [],
   "source": [
    "y.count(8)"
   ]
  },
  {
   "cell_type": "code",
   "execution_count": null,
   "metadata": {
    "ExecuteTime": {
     "end_time": "2020-06-02T14:03:43.399876Z",
     "start_time": "2020-06-02T14:03:43.395886Z"
    }
   },
   "outputs": [],
   "source": [
    "y.index(3)"
   ]
  },
  {
   "cell_type": "code",
   "execution_count": null,
   "metadata": {
    "ExecuteTime": {
     "end_time": "2020-06-02T14:03:43.534542Z",
     "start_time": "2020-06-02T14:03:43.530553Z"
    }
   },
   "outputs": [],
   "source": [
    "y.index(8)"
   ]
  },
  {
   "cell_type": "code",
   "execution_count": null,
   "metadata": {
    "ExecuteTime": {
     "end_time": "2020-06-02T14:03:43.719022Z",
     "start_time": "2020-06-02T14:03:43.715033Z"
    }
   },
   "outputs": [],
   "source": [
    "y.index(3, 2)"
   ]
  },
  {
   "cell_type": "code",
   "execution_count": null,
   "metadata": {
    "ExecuteTime": {
     "end_time": "2020-06-02T14:12:04.864285Z",
     "start_time": "2020-06-02T14:12:04.860296Z"
    }
   },
   "outputs": [],
   "source": [
    "# operação que demora muito\n",
    "\n",
    "x + 100"
   ]
  },
  {
   "cell_type": "markdown",
   "metadata": {},
   "source": [
    "## Slicing\n",
    "\n",
    "Taking only some elements of the tuple"
   ]
  },
  {
   "cell_type": "code",
   "execution_count": null,
   "metadata": {
    "ExecuteTime": {
     "end_time": "2020-06-02T14:13:36.789089Z",
     "start_time": "2020-06-02T14:13:36.784103Z"
    }
   },
   "outputs": [],
   "source": [
    "coords = (13,45,6,81,3,7,89)\n",
    "coords"
   ]
  },
  {
   "cell_type": "code",
   "execution_count": null,
   "metadata": {
    "ExecuteTime": {
     "end_time": "2020-06-02T14:14:23.234091Z",
     "start_time": "2020-06-02T14:14:23.230078Z"
    }
   },
   "outputs": [],
   "source": [
    "# quero pegar do 45 ao 81\n",
    "\n",
    "# [1, 4) -> 1,2,3\n",
    "coords[1:4]"
   ]
  },
  {
   "cell_type": "code",
   "execution_count": null,
   "metadata": {
    "ExecuteTime": {
     "end_time": "2020-06-02T14:15:25.340168Z",
     "start_time": "2020-06-02T14:15:25.336179Z"
    }
   },
   "outputs": [],
   "source": [
    "# do 45 em diante\n",
    "coords[1:]"
   ]
  },
  {
   "cell_type": "code",
   "execution_count": null,
   "metadata": {
    "ExecuteTime": {
     "end_time": "2020-06-02T14:15:34.751574Z",
     "start_time": "2020-06-02T14:15:34.747558Z"
    }
   },
   "outputs": [],
   "source": [
    "coords[1::]"
   ]
  },
  {
   "cell_type": "code",
   "execution_count": null,
   "metadata": {
    "ExecuteTime": {
     "end_time": "2020-06-02T14:15:43.758274Z",
     "start_time": "2020-06-02T14:15:43.754284Z"
    }
   },
   "outputs": [],
   "source": [
    "# do 3 pra tras\n",
    "# [0, 5)\n",
    "coords[:5]"
   ]
  },
  {
   "cell_type": "markdown",
   "metadata": {},
   "source": [
    "# DICT's"
   ]
  },
  {
   "cell_type": "markdown",
   "metadata": {},
   "source": [
    "## What is a dictionary?"
   ]
  },
  {
   "cell_type": "markdown",
   "metadata": {},
   "source": [
    "In real life, we use it to find the `description of something`."
   ]
  },
  {
   "cell_type": "markdown",
   "metadata": {},
   "source": [
    "## What are keys and values?"
   ]
  },
  {
   "cell_type": "markdown",
   "metadata": {},
   "source": [
    "`keys`: it is the `something`\n",
    "\n",
    "`values`: it is the `description` of something"
   ]
  },
  {
   "cell_type": "markdown",
   "metadata": {},
   "source": [
    "## Creating a dictionary: dict syntax"
   ]
  },
  {
   "cell_type": "code",
   "execution_count": null,
   "metadata": {
    "ExecuteTime": {
     "end_time": "2020-06-02T14:19:00.788311Z",
     "start_time": "2020-06-02T14:19:00.785319Z"
    }
   },
   "outputs": [],
   "source": [
    "# curly braces {key:value}\n",
    "\n",
    "my_dict = {'andre' : 'lead-teacher'}"
   ]
  },
  {
   "cell_type": "code",
   "execution_count": null,
   "metadata": {
    "ExecuteTime": {
     "end_time": "2020-06-02T14:19:01.570815Z",
     "start_time": "2020-06-02T14:19:01.567822Z"
    }
   },
   "outputs": [],
   "source": [
    "my_dict"
   ]
  },
  {
   "cell_type": "code",
   "execution_count": null,
   "metadata": {
    "ExecuteTime": {
     "end_time": "2020-06-02T14:19:07.479089Z",
     "start_time": "2020-06-02T14:19:07.474104Z"
    }
   },
   "outputs": [],
   "source": [
    "type(my_dict)"
   ]
  },
  {
   "cell_type": "code",
   "execution_count": null,
   "metadata": {
    "ExecuteTime": {
     "end_time": "2020-06-02T14:19:27.842004Z",
     "start_time": "2020-06-02T14:19:27.838015Z"
    }
   },
   "outputs": [],
   "source": [
    "my_dict['andre']"
   ]
  },
  {
   "cell_type": "code",
   "execution_count": null,
   "metadata": {
    "ExecuteTime": {
     "end_time": "2020-06-02T14:21:22.873752Z",
     "start_time": "2020-06-02T14:21:22.870787Z"
    }
   },
   "outputs": [],
   "source": [
    "my_dict = {1 : 'lead-teacher'}"
   ]
  },
  {
   "cell_type": "code",
   "execution_count": null,
   "metadata": {
    "ExecuteTime": {
     "end_time": "2020-06-02T14:21:29.912329Z",
     "start_time": "2020-06-02T14:21:29.908340Z"
    }
   },
   "outputs": [],
   "source": [
    "my_dict[1]"
   ]
  },
  {
   "cell_type": "code",
   "execution_count": null,
   "metadata": {
    "ExecuteTime": {
     "end_time": "2020-06-02T14:21:59.785714Z",
     "start_time": "2020-06-02T14:21:59.782722Z"
    }
   },
   "outputs": [],
   "source": [
    "x = { \n",
    "     'Marcus': 'Student',\n",
    "     'Matheus': 'Teacher Assistant',\n",
    "     'andre' : 'Lead Teacher',\n",
    "}\n"
   ]
  },
  {
   "cell_type": "code",
   "execution_count": null,
   "metadata": {
    "ExecuteTime": {
     "end_time": "2020-06-02T14:22:03.797729Z",
     "start_time": "2020-06-02T14:22:03.791717Z"
    }
   },
   "outputs": [],
   "source": [
    "x[0]"
   ]
  },
  {
   "cell_type": "code",
   "execution_count": null,
   "metadata": {
    "ExecuteTime": {
     "end_time": "2020-06-02T14:22:10.454654Z",
     "start_time": "2020-06-02T14:22:10.450666Z"
    }
   },
   "outputs": [],
   "source": [
    "x['Matheus']"
   ]
  },
  {
   "cell_type": "code",
   "execution_count": null,
   "metadata": {
    "ExecuteTime": {
     "end_time": "2020-06-02T14:22:45.977812Z",
     "start_time": "2020-06-02T14:22:45.973824Z"
    }
   },
   "outputs": [],
   "source": [
    "x['andre']"
   ]
  },
  {
   "cell_type": "code",
   "execution_count": null,
   "metadata": {
    "ExecuteTime": {
     "end_time": "2020-06-02T14:24:30.379846Z",
     "start_time": "2020-06-02T14:24:30.376854Z"
    }
   },
   "outputs": [],
   "source": [
    "y = {3 : 'Lead Teacher', 13 : 'Teacher Assistant'}"
   ]
  },
  {
   "cell_type": "code",
   "execution_count": null,
   "metadata": {
    "ExecuteTime": {
     "end_time": "2020-06-02T14:24:30.827648Z",
     "start_time": "2020-06-02T14:24:30.822663Z"
    }
   },
   "outputs": [],
   "source": [
    "y[13]"
   ]
  },
  {
   "cell_type": "code",
   "execution_count": null,
   "metadata": {
    "ExecuteTime": {
     "end_time": "2020-06-02T14:24:43.187896Z",
     "start_time": "2020-06-02T14:24:43.184904Z"
    }
   },
   "outputs": [],
   "source": [
    "y = {3 : 'Lead Teacher', 3 : 'Teacher Assistant'}"
   ]
  },
  {
   "cell_type": "code",
   "execution_count": null,
   "metadata": {
    "ExecuteTime": {
     "end_time": "2020-06-02T14:25:16.663170Z",
     "start_time": "2020-06-02T14:25:16.659182Z"
    }
   },
   "outputs": [],
   "source": [
    "y = {3 : 'Lead Teacher', '3' : 'Teacher Assistant'}"
   ]
  },
  {
   "cell_type": "code",
   "execution_count": null,
   "metadata": {
    "ExecuteTime": {
     "end_time": "2020-06-02T14:25:27.426364Z",
     "start_time": "2020-06-02T14:25:27.421378Z"
    }
   },
   "outputs": [],
   "source": [
    "y['3']"
   ]
  },
  {
   "cell_type": "code",
   "execution_count": null,
   "metadata": {
    "ExecuteTime": {
     "end_time": "2020-06-02T14:26:46.433990Z",
     "start_time": "2020-06-02T14:26:46.430999Z"
    }
   },
   "outputs": [],
   "source": [
    "# de-para\n",
    "\n",
    "mapear_cores = {\n",
    "    'amarelo' : 0,\n",
    "    'vermelho' : 1,\n",
    "    'azul': 2\n",
    "}"
   ]
  },
  {
   "cell_type": "code",
   "execution_count": null,
   "metadata": {
    "ExecuteTime": {
     "end_time": "2020-06-02T14:26:33.237200Z",
     "start_time": "2020-06-02T14:26:33.234209Z"
    }
   },
   "outputs": [],
   "source": [
    "my_list = ['amarelo', 'vermelho','vermelho','azul','vermelho','vermelho','azul','amarelo']"
   ]
  },
  {
   "cell_type": "code",
   "execution_count": null,
   "metadata": {
    "ExecuteTime": {
     "end_time": "2020-06-02T14:27:02.716645Z",
     "start_time": "2020-06-02T14:27:02.712685Z"
    }
   },
   "outputs": [],
   "source": [
    "mapear_cores['vermelho']"
   ]
  },
  {
   "cell_type": "code",
   "execution_count": null,
   "metadata": {
    "ExecuteTime": {
     "end_time": "2020-06-02T14:27:25.933896Z",
     "start_time": "2020-06-02T14:27:25.930903Z"
    }
   },
   "outputs": [],
   "source": [
    "for item in my_list:\n",
    "    print(mapear_cores[item])"
   ]
  },
  {
   "cell_type": "code",
   "execution_count": null,
   "metadata": {
    "ExecuteTime": {
     "end_time": "2020-06-02T14:28:33.162805Z",
     "start_time": "2020-06-02T14:28:33.159841Z"
    }
   },
   "outputs": [],
   "source": [
    "z = {'Lead Teacher': 3, 'Teacher Assistant': '13'}"
   ]
  },
  {
   "cell_type": "code",
   "execution_count": null,
   "metadata": {
    "ExecuteTime": {
     "end_time": "2020-06-02T14:28:34.242537Z",
     "start_time": "2020-06-02T14:28:34.238575Z"
    }
   },
   "outputs": [],
   "source": [
    "z['Lead Teacher']"
   ]
  },
  {
   "cell_type": "code",
   "execution_count": null,
   "metadata": {
    "ExecuteTime": {
     "end_time": "2020-06-02T14:28:15.817382Z",
     "start_time": "2020-06-02T14:28:15.813393Z"
    }
   },
   "outputs": [],
   "source": [
    "type(z)"
   ]
  },
  {
   "cell_type": "code",
   "execution_count": null,
   "metadata": {
    "ExecuteTime": {
     "end_time": "2020-06-02T14:28:23.116709Z",
     "start_time": "2020-06-02T14:28:23.112720Z"
    }
   },
   "outputs": [],
   "source": [
    "type(z['Lead Teacher'])"
   ]
  },
  {
   "cell_type": "code",
   "execution_count": null,
   "metadata": {
    "ExecuteTime": {
     "end_time": "2020-06-02T14:28:43.246647Z",
     "start_time": "2020-06-02T14:28:43.242658Z"
    }
   },
   "outputs": [],
   "source": [
    "type(z['Teacher Assistant'])"
   ]
  },
  {
   "cell_type": "markdown",
   "metadata": {},
   "source": [
    "### Detalhe"
   ]
  },
  {
   "cell_type": "code",
   "execution_count": null,
   "metadata": {
    "ExecuteTime": {
     "end_time": "2020-06-02T14:29:06.151840Z",
     "start_time": "2020-06-02T14:29:06.146848Z"
    }
   },
   "outputs": [],
   "source": [
    "hash(3)"
   ]
  },
  {
   "cell_type": "code",
   "execution_count": null,
   "metadata": {
    "ExecuteTime": {
     "end_time": "2020-06-02T14:29:07.556609Z",
     "start_time": "2020-06-02T14:29:07.551578Z"
    }
   },
   "outputs": [],
   "source": [
    "hash('3')"
   ]
  },
  {
   "cell_type": "markdown",
   "metadata": {},
   "source": [
    "## Dict methods"
   ]
  },
  {
   "cell_type": "code",
   "execution_count": null,
   "metadata": {
    "ExecuteTime": {
     "end_time": "2020-06-02T14:30:49.382443Z",
     "start_time": "2020-06-02T14:30:49.378455Z"
    }
   },
   "outputs": [],
   "source": [
    "x"
   ]
  },
  {
   "cell_type": "code",
   "execution_count": null,
   "metadata": {
    "ExecuteTime": {
     "end_time": "2020-06-02T14:30:45.610215Z",
     "start_time": "2020-06-02T14:30:45.606198Z"
    }
   },
   "outputs": [],
   "source": [
    "x.keys()"
   ]
  },
  {
   "cell_type": "code",
   "execution_count": null,
   "metadata": {
    "ExecuteTime": {
     "end_time": "2020-06-02T14:31:36.795224Z",
     "start_time": "2020-06-02T14:31:36.791234Z"
    }
   },
   "outputs": [],
   "source": [
    "list(x.keys())"
   ]
  },
  {
   "cell_type": "code",
   "execution_count": null,
   "metadata": {
    "ExecuteTime": {
     "end_time": "2020-06-02T14:31:06.176432Z",
     "start_time": "2020-06-02T14:31:06.172443Z"
    }
   },
   "outputs": [],
   "source": [
    "type(x.keys())"
   ]
  },
  {
   "cell_type": "code",
   "execution_count": null,
   "metadata": {
    "ExecuteTime": {
     "end_time": "2020-06-02T14:32:04.699557Z",
     "start_time": "2020-06-02T14:32:04.695568Z"
    }
   },
   "outputs": [],
   "source": [
    "for each_key in x.keys():\n",
    "    print(each_key)"
   ]
  },
  {
   "cell_type": "code",
   "execution_count": null,
   "metadata": {
    "ExecuteTime": {
     "end_time": "2020-06-02T14:32:32.237286Z",
     "start_time": "2020-06-02T14:32:32.233324Z"
    }
   },
   "outputs": [],
   "source": [
    "x.values()"
   ]
  },
  {
   "cell_type": "code",
   "execution_count": null,
   "metadata": {
    "ExecuteTime": {
     "end_time": "2020-06-02T14:33:00.714292Z",
     "start_time": "2020-06-02T14:33:00.710303Z"
    }
   },
   "outputs": [],
   "source": [
    "valores = x.values()"
   ]
  },
  {
   "cell_type": "code",
   "execution_count": null,
   "metadata": {
    "ExecuteTime": {
     "end_time": "2020-06-02T14:33:10.233224Z",
     "start_time": "2020-06-02T14:33:10.227213Z"
    }
   },
   "outputs": [],
   "source": [
    "valores[1]"
   ]
  },
  {
   "cell_type": "code",
   "execution_count": null,
   "metadata": {
    "ExecuteTime": {
     "end_time": "2020-06-02T14:33:18.008887Z",
     "start_time": "2020-06-02T14:33:18.005865Z"
    }
   },
   "outputs": [],
   "source": [
    "for valor in valores:\n",
    "    print(valor)"
   ]
  },
  {
   "cell_type": "code",
   "execution_count": null,
   "metadata": {
    "ExecuteTime": {
     "end_time": "2020-06-02T14:33:28.202418Z",
     "start_time": "2020-06-02T14:33:28.197432Z"
    }
   },
   "outputs": [],
   "source": [
    "x"
   ]
  },
  {
   "cell_type": "code",
   "execution_count": null,
   "metadata": {
    "ExecuteTime": {
     "end_time": "2020-06-02T14:35:20.857710Z",
     "start_time": "2020-06-02T14:35:20.854691Z"
    }
   },
   "outputs": [],
   "source": [
    "x.items()"
   ]
  },
  {
   "cell_type": "code",
   "execution_count": null,
   "metadata": {
    "ExecuteTime": {
     "end_time": "2020-06-02T14:35:01.238092Z",
     "start_time": "2020-06-02T14:35:01.234130Z"
    }
   },
   "outputs": [],
   "source": [
    "list(x.items())[1]"
   ]
  },
  {
   "cell_type": "markdown",
   "metadata": {},
   "source": [
    "## Iterating through a dict"
   ]
  },
  {
   "cell_type": "code",
   "execution_count": null,
   "metadata": {
    "ExecuteTime": {
     "end_time": "2020-06-02T14:35:42.191978Z",
     "start_time": "2020-06-02T14:35:42.187988Z"
    }
   },
   "outputs": [],
   "source": [
    "for items in x.items():\n",
    "    print(items)"
   ]
  },
  {
   "cell_type": "code",
   "execution_count": null,
   "metadata": {
    "ExecuteTime": {
     "end_time": "2020-06-02T14:36:10.179113Z",
     "start_time": "2020-06-02T14:36:10.176122Z"
    }
   },
   "outputs": [],
   "source": [
    "y, z = (3, 4)"
   ]
  },
  {
   "cell_type": "markdown",
   "metadata": {},
   "source": [
    "## Loops can receive more than 1 argument"
   ]
  },
  {
   "cell_type": "code",
   "execution_count": null,
   "metadata": {
    "ExecuteTime": {
     "end_time": "2020-06-02T14:37:11.189919Z",
     "start_time": "2020-06-02T14:37:11.185930Z"
    }
   },
   "outputs": [],
   "source": [
    "for key, value in x.items():\n",
    "    print(key, value)"
   ]
  },
  {
   "cell_type": "markdown",
   "metadata": {},
   "source": [
    "## zip"
   ]
  },
  {
   "cell_type": "code",
   "execution_count": null,
   "metadata": {
    "ExecuteTime": {
     "end_time": "2020-06-02T14:40:37.829965Z",
     "start_time": "2020-06-02T14:40:37.824979Z"
    }
   },
   "outputs": [],
   "source": [
    "list(zip([1,3,5], [10, 30, 50]))"
   ]
  },
  {
   "cell_type": "code",
   "execution_count": null,
   "metadata": {
    "ExecuteTime": {
     "end_time": "2020-06-02T14:40:00.939707Z",
     "start_time": "2020-06-02T14:40:00.934720Z"
    }
   },
   "outputs": [],
   "source": [
    "list(zip(x.keys(), x.values()))"
   ]
  },
  {
   "cell_type": "markdown",
   "metadata": {},
   "source": [
    "## Verifying if dict contains something"
   ]
  },
  {
   "cell_type": "code",
   "execution_count": null,
   "metadata": {
    "ExecuteTime": {
     "end_time": "2020-06-02T14:41:26.205157Z",
     "start_time": "2020-06-02T14:41:26.200196Z"
    }
   },
   "outputs": [],
   "source": [
    "# remember in lists ?\n",
    "'x' in [1, 'y','x']"
   ]
  },
  {
   "cell_type": "code",
   "execution_count": null,
   "metadata": {},
   "outputs": [],
   "source": [
    "my_list.index()"
   ]
  },
  {
   "cell_type": "code",
   "execution_count": null,
   "metadata": {
    "ExecuteTime": {
     "end_time": "2020-06-02T14:42:46.196316Z",
     "start_time": "2020-06-02T14:42:46.192326Z"
    }
   },
   "outputs": [],
   "source": [
    "[1, 'y','x'].index('x')\n"
   ]
  },
  {
   "cell_type": "code",
   "execution_count": null,
   "metadata": {
    "ExecuteTime": {
     "end_time": "2020-06-02T14:41:28.990965Z",
     "start_time": "2020-06-02T14:41:28.986976Z"
    }
   },
   "outputs": [],
   "source": [
    "'c' in ('ç', 'x', 'c')"
   ]
  },
  {
   "cell_type": "code",
   "execution_count": null,
   "metadata": {
    "ExecuteTime": {
     "end_time": "2020-06-02T14:41:34.001156Z",
     "start_time": "2020-06-02T14:41:33.997140Z"
    }
   },
   "outputs": [],
   "source": [
    "'u' in ('ç', 'x', 'c')"
   ]
  },
  {
   "cell_type": "code",
   "execution_count": null,
   "metadata": {
    "ExecuteTime": {
     "end_time": "2020-06-02T14:45:07.216158Z",
     "start_time": "2020-06-02T14:45:07.213167Z"
    }
   },
   "outputs": [],
   "source": [
    "if 'preto' in mapear_cores.keys():\n",
    "    mapear_cores['preto']\n",
    "    "
   ]
  },
  {
   "cell_type": "code",
   "execution_count": null,
   "metadata": {
    "ExecuteTime": {
     "end_time": "2020-06-02T14:47:01.467762Z",
     "start_time": "2020-06-02T14:47:01.463809Z"
    }
   },
   "outputs": [],
   "source": [
    "mapear_cores.get('preto')"
   ]
  },
  {
   "cell_type": "code",
   "execution_count": null,
   "metadata": {
    "ExecuteTime": {
     "end_time": "2020-06-02T14:47:02.749604Z",
     "start_time": "2020-06-02T14:47:02.746588Z"
    }
   },
   "outputs": [],
   "source": [
    "mapear_cores.get('preto', -1)"
   ]
  },
  {
   "cell_type": "markdown",
   "metadata": {},
   "source": [
    "## Adicionar chaves no dicionario"
   ]
  },
  {
   "cell_type": "code",
   "execution_count": null,
   "metadata": {
    "ExecuteTime": {
     "end_time": "2020-06-02T14:47:11.724863Z",
     "start_time": "2020-06-02T14:47:11.720874Z"
    }
   },
   "outputs": [],
   "source": [
    "mapear_cores"
   ]
  },
  {
   "cell_type": "code",
   "execution_count": null,
   "metadata": {
    "ExecuteTime": {
     "end_time": "2020-06-02T14:47:31.689417Z",
     "start_time": "2020-06-02T14:47:31.686426Z"
    }
   },
   "outputs": [],
   "source": [
    "mapear_cores['preto'] = 3"
   ]
  },
  {
   "cell_type": "code",
   "execution_count": null,
   "metadata": {
    "ExecuteTime": {
     "end_time": "2020-06-02T14:47:32.560088Z",
     "start_time": "2020-06-02T14:47:32.556101Z"
    }
   },
   "outputs": [],
   "source": [
    "mapear_cores"
   ]
  },
  {
   "cell_type": "code",
   "execution_count": null,
   "metadata": {
    "ExecuteTime": {
     "end_time": "2020-06-02T14:48:13.985641Z",
     "start_time": "2020-06-02T14:48:13.981652Z"
    }
   },
   "outputs": [],
   "source": [
    "{'azul-marinho' : 10, 'branco' : 5}"
   ]
  },
  {
   "cell_type": "code",
   "execution_count": null,
   "metadata": {
    "ExecuteTime": {
     "end_time": "2020-06-02T14:48:18.940760Z",
     "start_time": "2020-06-02T14:48:18.936771Z"
    }
   },
   "outputs": [],
   "source": [
    "mapear_cores.update({'azul-marinho' : 10, 'branco' : 5})"
   ]
  },
  {
   "cell_type": "code",
   "execution_count": null,
   "metadata": {
    "ExecuteTime": {
     "end_time": "2020-06-02T14:53:50.142939Z",
     "start_time": "2020-06-02T14:53:50.138974Z"
    }
   },
   "outputs": [],
   "source": [
    "mapear_cores.update({'amarelo': 13})"
   ]
  },
  {
   "cell_type": "code",
   "execution_count": null,
   "metadata": {
    "ExecuteTime": {
     "end_time": "2020-06-02T14:53:53.075002Z",
     "start_time": "2020-06-02T14:53:53.071983Z"
    }
   },
   "outputs": [],
   "source": [
    "mapear_cores"
   ]
  },
  {
   "cell_type": "code",
   "execution_count": null,
   "metadata": {
    "ExecuteTime": {
     "end_time": "2020-06-02T14:51:40.792892Z",
     "start_time": "2020-06-02T14:51:40.788901Z"
    }
   },
   "outputs": [],
   "source": [
    "my_list = ['a','b','c','d','e','f']"
   ]
  },
  {
   "cell_type": "markdown",
   "metadata": {},
   "source": [
    "# SETS"
   ]
  },
  {
   "cell_type": "code",
   "execution_count": null,
   "metadata": {
    "ExecuteTime": {
     "end_time": "2020-06-02T14:54:38.147622Z",
     "start_time": "2020-06-02T14:54:38.143634Z"
    }
   },
   "outputs": [],
   "source": [
    "x = set([1,2,3,4,4,4,4,4,5])\n",
    "x"
   ]
  },
  {
   "cell_type": "code",
   "execution_count": null,
   "metadata": {
    "ExecuteTime": {
     "end_time": "2020-06-02T14:58:16.071555Z",
     "start_time": "2020-06-02T14:58:16.067566Z"
    }
   },
   "outputs": [],
   "source": [
    "y = set([4,5,6,7,8,8,6,7])\n",
    "y"
   ]
  },
  {
   "cell_type": "code",
   "execution_count": null,
   "metadata": {},
   "outputs": [],
   "source": [
    "type(x)"
   ]
  },
  {
   "cell_type": "markdown",
   "metadata": {},
   "source": [
    "## Sets methods."
   ]
  },
  {
   "cell_type": "code",
   "execution_count": null,
   "metadata": {
    "ExecuteTime": {
     "end_time": "2020-06-02T14:59:40.403170Z",
     "start_time": "2020-06-02T14:59:40.399181Z"
    }
   },
   "outputs": [],
   "source": [
    "x"
   ]
  },
  {
   "cell_type": "code",
   "execution_count": null,
   "metadata": {
    "ExecuteTime": {
     "end_time": "2020-06-02T14:59:41.018619Z",
     "start_time": "2020-06-02T14:59:41.014629Z"
    }
   },
   "outputs": [],
   "source": [
    "y"
   ]
  },
  {
   "cell_type": "code",
   "execution_count": null,
   "metadata": {
    "ExecuteTime": {
     "end_time": "2020-06-02T15:00:35.088374Z",
     "start_time": "2020-06-02T15:00:35.084385Z"
    }
   },
   "outputs": [],
   "source": [
    "x.intersection(y)"
   ]
  },
  {
   "cell_type": "code",
   "execution_count": null,
   "metadata": {
    "ExecuteTime": {
     "end_time": "2020-06-02T15:00:41.604186Z",
     "start_time": "2020-06-02T15:00:41.600197Z"
    }
   },
   "outputs": [],
   "source": [
    "x.difference(y)"
   ]
  },
  {
   "cell_type": "code",
   "execution_count": null,
   "metadata": {
    "ExecuteTime": {
     "end_time": "2020-06-02T15:01:14.700171Z",
     "start_time": "2020-06-02T15:01:14.696183Z"
    }
   },
   "outputs": [],
   "source": [
    "y.difference(x)"
   ]
  },
  {
   "cell_type": "code",
   "execution_count": null,
   "metadata": {
    "ExecuteTime": {
     "end_time": "2020-06-02T15:01:22.713408Z",
     "start_time": "2020-06-02T15:01:22.709419Z"
    }
   },
   "outputs": [],
   "source": [
    "x - y"
   ]
  },
  {
   "cell_type": "code",
   "execution_count": null,
   "metadata": {
    "ExecuteTime": {
     "end_time": "2020-06-02T15:01:29.921944Z",
     "start_time": "2020-06-02T15:01:29.918003Z"
    }
   },
   "outputs": [],
   "source": [
    "y - x"
   ]
  },
  {
   "cell_type": "code",
   "execution_count": null,
   "metadata": {
    "ExecuteTime": {
     "end_time": "2020-06-02T15:01:38.599529Z",
     "start_time": "2020-06-02T15:01:38.595540Z"
    }
   },
   "outputs": [],
   "source": [
    "x.union(y)"
   ]
  },
  {
   "cell_type": "code",
   "execution_count": null,
   "metadata": {
    "ExecuteTime": {
     "end_time": "2020-06-02T15:01:55.788019Z",
     "start_time": "2020-06-02T15:01:55.783033Z"
    }
   },
   "outputs": [],
   "source": [
    "y.symmetric_difference(x)"
   ]
  },
  {
   "cell_type": "code",
   "execution_count": null,
   "metadata": {
    "ExecuteTime": {
     "end_time": "2020-06-02T15:07:23.415096Z",
     "start_time": "2020-06-02T15:07:23.412105Z"
    }
   },
   "outputs": [],
   "source": [
    "# Practical example\n",
    "col_names = ['a', 'b','c','d']\n",
    "\n",
    "incoming_col_names = ['a', 'b','c','e']\n",
    "\n",
    "print(f'Missing columns: {set(col_names) - set(incoming_col_names)}')"
   ]
  },
  {
   "cell_type": "code",
   "execution_count": null,
   "metadata": {
    "ExecuteTime": {
     "end_time": "2020-06-02T15:07:23.769317Z",
     "start_time": "2020-06-02T15:07:23.766352Z"
    }
   },
   "outputs": [],
   "source": [
    "print(f'Found columns: {set(incoming_col_names) - set(col_names)}')"
   ]
  },
  {
   "cell_type": "code",
   "execution_count": null,
   "metadata": {
    "ExecuteTime": {
     "end_time": "2020-06-02T15:07:24.093568Z",
     "start_time": "2020-06-02T15:07:24.090605Z"
    }
   },
   "outputs": [],
   "source": [
    "if set(col_names) - set(incoming_col_names) == set():\n",
    "    print('Run')"
   ]
  },
  {
   "cell_type": "markdown",
   "metadata": {},
   "source": [
    "### List, Functions, classes, objects ... "
   ]
  },
  {
   "cell_type": "markdown",
   "metadata": {},
   "source": [
    "..."
   ]
  }
 ],
 "metadata": {
  "kernelspec": {
   "display_name": "Python 3",
   "language": "python",
   "name": "python3"
  },
  "language_info": {
   "codemirror_mode": {
    "name": "ipython",
    "version": 3
   },
   "file_extension": ".py",
   "mimetype": "text/x-python",
   "name": "python",
   "nbconvert_exporter": "python",
   "pygments_lexer": "ipython3",
   "version": "3.7.3"
  },
  "toc": {
   "base_numbering": 1,
   "nav_menu": {},
   "number_sections": true,
   "sideBar": true,
   "skip_h1_title": false,
   "title_cell": "Table of Contents",
   "title_sidebar": "Contents",
   "toc_cell": false,
   "toc_position": {},
   "toc_section_display": true,
   "toc_window_display": false
  }
 },
 "nbformat": 4,
 "nbformat_minor": 2
}
